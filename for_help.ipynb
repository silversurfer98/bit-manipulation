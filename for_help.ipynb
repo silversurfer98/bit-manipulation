{
 "cells": [
  {
   "cell_type": "code",
   "execution_count": 19,
   "metadata": {},
   "outputs": [
    {
     "name": "stdout",
     "output_type": "stream",
     "text": [
      "0x7fffff\n"
     ]
    }
   ],
   "source": [
    "i = 0\n",
    "ans = \"\"\n",
    "while i<=128:\n",
    "    if i<=105:\n",
    "        ans = ans + '0'\n",
    "    else:\n",
    "        ans = ans + '1'\n",
    "    i = i+1\n",
    "\n",
    "print(hex(int(ans,2)))"
   ]
  }
 ],
 "metadata": {
  "kernelspec": {
   "display_name": "Python 3.10.6 64-bit",
   "language": "python",
   "name": "python3"
  },
  "language_info": {
   "codemirror_mode": {
    "name": "ipython",
    "version": 3
   },
   "file_extension": ".py",
   "mimetype": "text/x-python",
   "name": "python",
   "nbconvert_exporter": "python",
   "pygments_lexer": "ipython3",
   "version": "3.10.6"
  },
  "orig_nbformat": 4,
  "vscode": {
   "interpreter": {
    "hash": "97195ad6b61c195d6b190f589c8c74ff7d2239593703f89b63e11093608db5e8"
   }
  }
 },
 "nbformat": 4,
 "nbformat_minor": 2
}
